{
 "cells": [
  {
   "cell_type": "code",
   "execution_count": 366,
   "metadata": {},
   "outputs": [],
   "source": [
    "pd.set_option('display.max_columns', 200)\n",
    "pd.set_option('display.max_rows', 1000)"
   ]
  },
  {
   "cell_type": "code",
   "execution_count": 1,
   "metadata": {},
   "outputs": [
    {
     "name": "stdout",
     "output_type": "stream",
     "text": [
      "\n",
      "********************\n",
      "\n",
      "Connecting to NYU Public Safety Lab AWS S3 bucket jdi-ccrb\n"
     ]
    }
   ],
   "source": [
    "from itertools import product\n",
    "from io import StringIO\n",
    "import seaborn as sns\n",
    "import pandas as pd\n",
    "import numpy as np\n",
    "import warnings\n",
    "# import plotly\n",
    "import plotly.graph_objs as go\n",
    "from plotly.subplots import make_subplots\n",
    "import plotly.express as px\n",
    "import boto3\n",
    "import json\n",
    "import os\n",
    "\n",
    "# Note: suppressing warnings optional\n",
    "warnings.simplefilter(action=\"ignore\", category=Warning)\n",
    "print(\"\\n\" + \"*\"*20 + \"\\n\")\n",
    "\n",
    "# Connect to public AWS S3 bucket\n",
    "# Hosted by NYU's Public Safety Lab @ https://jdi-ccrb.s3.amazonaws.com/\n",
    "S3 = boto3.resource(\"s3\")\n",
    "BUCKET = \"jdi-ccrb\"\n",
    "print(f\"Connecting to NYU Public Safety Lab AWS S3 bucket {BUCKET}\")\n",
    "conn = S3.Bucket(BUCKET)\n",
    "\n",
    "# Import NYU PSL NYC CCRB processed data, and separate substantiated complaints\n",
    "ccrb = pd.read_csv(\"s3://jdi-ccrb/out/data.csv\")\n",
    "ccrb[\"Num_NYPD_Officers_Year\"] = np.where(ccrb[\"Year\"]==2003, 36700, ccrb[\"Num_NYPD_Officers_Year\"])"
   ]
  },
  {
   "cell_type": "code",
   "execution_count": 398,
   "metadata": {},
   "outputs": [],
   "source": [
    "def compile_precincts(dfa):\n",
    "    dfa = dfa[(dfa[\"Year\"] >= 2006) & (dfa[\"Year\"] <= 2019) & (dfa[\"Precinct\"] != \"-1\")]\n",
    "    precincts = list(set(dfa.Precinct.values))\n",
    "    years = list(set(dfa.Year.values))\n",
    "    blanks = pd.DataFrame(list(product(years, precincts)), columns=['Year', 'Precinct'])\n",
    "\n",
    "#     dfs = dfa[dfa[\"Board Disposition\"].str.contains(\"Substantiated \")]\n",
    "#     g = dfs.groupby([\"Year\", \"Precinct\"])[\"Unique Id\"].count().reset_index().rename(columns={\"Unique Id\": \"Complaints\"})\n",
    "# #     td11_2017_complaints = {\"Year\": 2017, \"Precinct\": \"TD11\", \"Complaints\": 0}\n",
    "# #     g = g.append(td11_2017_complaints, ignore_index=True)  \n",
    "#     precincts = list(set(g.Precinct.values))\n",
    "#     years = list(set(g.Year.values))\n",
    "#     blanks = pd.DataFrame(list(product(years, precincts)), columns=['Year', 'Precinct'])\n",
    "#     g = pd.merge(blanks, g, how=\"left\", on=[\"Year\", \"Precinct\"]).fillna(0.0)\n",
    "#     pct121 = g[g[\"Precinct\"] == \"121\"]\n",
    "#     pct121_del = pct121[pct121[\"Year\"] < 2014] \n",
    "#     g = g[~g.isin(pct121_del)]  \n",
    "#     g = g.groupby(\"Precinct\")[\"Complaints\"].mean().reset_index()\n",
    "#     cg = sum_crimes(dfa)\n",
    "#     td11_2017_crimes = {\"Year\": 2017, \"Precinct\": \"TD11\", \"Crime Reports\": 897.0}\n",
    "#     cg = cg.append(td11_2017_crimes, ignore_index=True)\n",
    "#     cg = cg.groupby(\"Precinct\")[\"Crime Reports\"].mean().reset_index().rename(columns={\"Crime Reports\": \"Crimes\"})\n",
    "#     g = pd.merge(g, cg, on=\"Precinct\")"
   ]
  },
  {
   "cell_type": "code",
   "execution_count": 399,
   "metadata": {},
   "outputs": [
    {
     "name": "stdout",
     "output_type": "stream",
     "text": [
      "1246\n"
     ]
    }
   ],
   "source": [
    "compile_precincts(ccrb)"
   ]
  },
  {
   "cell_type": "code",
   "execution_count": 319,
   "metadata": {},
   "outputs": [],
   "source": [
    "def annual_complaints_vs_crimes_reg(dfa, start, stop, figno, ign_pcts=[]):\n",
    "    dfa = dfa[(dfa[\"Year\"] >= start) & (dfa[\"Year\"] <= stop)]\n",
    "    dfa = dfa[~dfa[\"Precinct\"].isin(ign_pcts)]\n",
    "    pct121 = dfa[dfa[\"Precinct\"] == \"121\"]\n",
    "    pct121_del = pct121[pct121[\"Year\"] < 2014]\n",
    "    dfa = dfa[~dfa.isin(pct121_del)]\n",
    "    g = dfa.groupby([\"Year\", \"Precinct\"])[\"Unique Id\"].count().reset_index().rename(columns={\"Unique Id\": \"Complaints\"})\n",
    "    td11_2017_complaints = {\"Year\": 2017, \"Precinct\": \"TD11\", \"Complaints\": 0}\n",
    "    g = g.append(td11_2017_complaints, ignore_index=True)\n",
    "    g = g.groupby(\"Precinct\")[\"Complaints\"].mean().reset_index()\n",
    "    cg = sum_crimes(dfa)\n",
    "    td11_2017_crimes = {\"Year\": 2017, \"Precinct\": \"TD11\", \"Crime Reports\": 897.0}\n",
    "    cg = cg.append(td11_2017_crimes, ignore_index=True)\n",
    "    cg = cg.groupby(\"Precinct\")[\"Crime Reports\"].mean().reset_index().rename(columns={\"Crime Reports\": \"Crimes\"})\n",
    "    g = pd.merge(g, cg, on=\"Precinct\")\n",
    "    g = g.rename(columns={\"Complaints\": \"Mean Annual Misconduct Complaints\", \"Crimes\": \"Mean Annual Reported Crimes\"})\n",
    "\n",
    "    shapes = seaborn_conf_int(g, \"Mean Annual Reported Crimes\", \"Mean Annual Misconduct Complaints\") \n",
    "    fig = px.scatter(g, x=g[\"Mean Annual Reported Crimes\"], y=g[\"Mean Annual Misconduct Complaints\"], text=g.Precinct, trendline=\"ols\")\n",
    "    fig.update_traces(textposition='top center', textfont_size=6)\n",
    "    fig.update_layout(shapes=shapes)\n",
    "    fig.update_xaxes(title_text=\"<span style='font-size: 12px;'>Mean Annual Number of Reported Crimes</span>\")\n",
    "    fig.update_yaxes(title_text=\"<span style='font-size: 12px;'>Mean Annual Number of Misconduct Complaints</span>\")\n",
    "    fig.update_layout(\n",
    "        title={\n",
    "            'text': f\"<b>Figure {figno.capitalize()}</b>: Per-Precinct Mean Annual Misconduct Complaints vs. Mean Annual Reported Crimes (2006-2019)\",\n",
    "            'x':0.5,\n",
    "            'xanchor': 'center',\n",
    "            'yanchor': 'top'})\n",
    "    fig.write_html(f\"viz/fig-{figno}.html\")\n",
    "    fig.show()\n",
    "    \n",
    "    results = px.get_trendline_results(fig)\n",
    "    global b0, b1\n",
    "    b0, b1 = results.px_fit_results.iloc[0].params\n",
    "    return g, results.px_fit_results.iloc[0].summary()"
   ]
  },
  {
   "cell_type": "code",
   "execution_count": 388,
   "metadata": {},
   "outputs": [],
   "source": [
    "# annual_complaints_vs_crimes_reg(ccrb, 2006, 2019, \"4\", ign_pcts=[\"-1\"])"
   ]
  },
  {
   "cell_type": "code",
   "execution_count": 385,
   "metadata": {},
   "outputs": [],
   "source": [
    "def annual_subst_complaints_vs_crimes_reg(dfa, start, stop, figno, ign_pcts=[]):\n",
    "    dfa = dfa[(dfa[\"Year\"] >= start) & (dfa[\"Year\"] <= stop)]\n",
    "    dfa = dfa[~dfa[\"Precinct\"].isin(ign_pcts)]\n",
    "    pct121 = dfa[dfa[\"Precinct\"] == \"121\"]\n",
    "    pct121_del = pct121[pct121[\"Year\"] < 2014]\n",
    "    dfa = dfa[~dfa.isin(pct121_del)]\n",
    "#     dfa[\"Board Disposition\"] = np.where(dfa[\"Board Disposition\"].isnull(), \"\", dfa[\"Board Disposition\"])\n",
    "    dfs = dfa[dfa[\"Board Disposition\"].str.contains(\"Substantiated \")]\n",
    "    g = dfs.groupby([\"Year\", \"Precinct\"])[\"Unique Id\"].count().reset_index().rename(columns={\"Unique Id\": \"Complaints\"})\n",
    "#     td11_2017_complaints = {\"Year\": 2017, \"Precinct\": \"TD11\", \"Complaints\": 0}\n",
    "#     g = g.append(td11_2017_complaints, ignore_index=True)  \n",
    "    precincts = list(set(g.Precinct.values))\n",
    "    years = list(set(g.Year.values))\n",
    "    blanks = pd.DataFrame(list(product(years, precincts)), columns=['Year', 'Precinct'])\n",
    "    g = pd.merge(blanks, g, how=\"left\", on=[\"Year\", \"Precinct\"]).fillna(0.0)\n",
    "    pct121 = g[g[\"Precinct\"] == \"121\"]\n",
    "    pct121_del = pct121[pct121[\"Year\"] < 2014] \n",
    "    g = g[~g.isin(pct121_del)]  \n",
    "    g = g.groupby(\"Precinct\")[\"Complaints\"].mean().reset_index()\n",
    "    cg = sum_crimes(dfa)\n",
    "    td11_2017_crimes = {\"Year\": 2017, \"Precinct\": \"TD11\", \"Crime Reports\": 897.0}\n",
    "    cg = cg.append(td11_2017_crimes, ignore_index=True)\n",
    "    cg = cg.groupby(\"Precinct\")[\"Crime Reports\"].mean().reset_index().rename(columns={\"Crime Reports\": \"Crimes\"})\n",
    "    g = pd.merge(g, cg, on=\"Precinct\")\n",
    "    g = g.rename(columns={\"Complaints\": \"Mean Annual Substantiated Misconduct Complaints\", \"Crimes\": \"Mean Annual Reported Crimes\"})\n",
    "    shapes = seaborn_conf_int(g, \"Mean Annual Reported Crimes\", \"Mean Annual Substantiated Misconduct Complaints\") \n",
    "    fig = px.scatter(g, x=g[\"Mean Annual Reported Crimes\"], y=g[\"Mean Annual Substantiated Misconduct Complaints\"], text=g.Precinct, trendline=\"ols\")\n",
    "    fig.update_traces(textposition='top center', textfont_size=6)\n",
    "    fig.update_layout(shapes=shapes)\n",
    "    fig.update_xaxes(title_text=\"<span style='font-size: 12px;'>Mean Annual Number of Reported Crimes</span>\")\n",
    "    fig.update_yaxes(title_text=\"<span style='font-size: 12px;'>Mean Annual Number of Substantiated Misconduct Complaints</span>\")\n",
    "    fig.update_layout(\n",
    "        title={\n",
    "            'text': f\"<b>Figure {figno.capitalize()}</b>: Per-Precinct Mean Annual Substantiated Misconduct Complaints vs. Mean Annual Reported Crimes (2006-2019)\",\n",
    "            'x':0.5,\n",
    "            'xanchor': 'center',\n",
    "            'yanchor': 'top'})\n",
    "    fig.write_html(f\"viz/fig-{figno}.html\")\n",
    "    fig.show()\n",
    "    \n",
    "    results = px.get_trendline_results(fig)\n",
    "    global b0s, b1s\n",
    "    b0s, b1s = results.px_fit_results.iloc[0].params\n",
    "    return g, results.px_fit_results.iloc[0].summary()"
   ]
  },
  {
   "cell_type": "code",
   "execution_count": 389,
   "metadata": {},
   "outputs": [],
   "source": [
    "# g = annual_subst_complaints_vs_crimes_reg(ccrb, 2006, 2019, \"a2\", ign_pcts=[\"-1\"])"
   ]
  }
 ],
 "metadata": {
  "kernelspec": {
   "display_name": "Python 3",
   "language": "python",
   "name": "python3"
  },
  "language_info": {
   "codemirror_mode": {
    "name": "ipython",
    "version": 3
   },
   "file_extension": ".py",
   "mimetype": "text/x-python",
   "name": "python",
   "nbconvert_exporter": "python",
   "pygments_lexer": "ipython3",
   "version": "3.7.4"
  }
 },
 "nbformat": 4,
 "nbformat_minor": 2
}
